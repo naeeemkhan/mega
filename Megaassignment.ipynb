{
 "cells": [
  {
   "cell_type": "markdown",
   "metadata": {},
   "source": [
    "PIAIC\n",
    "Muhammad Naeem\n",
    "PIAIC65871\n",
    "\n",
    "still inprocess work\n",
    "\n",
    "\n",
    "# Which of the following terms are related to dictionaries?\n",
    "a. value\n",
    "b. item\n",
    "c. index\n",
    "d. key\n",
    "\n",
    "# Answer (a +b+ d)\n",
    "\n",
    "2. Just like lists, + operator is used to extend dictionaries?\n",
    "a. True\n",
    "b. False\n",
    "\n",
    "# True\n",
    "\n",
    "3. To access items from a dictionary, we specify the index of that item within [] like myDict[0]?\n",
    "a. True\n",
    "b. False\n",
    "\n",
    "# False\n",
    "\n",
    "\n",
    "4. When we use [] to access the value from a dictionary which does not exist in that dictionary….?\n",
    "a. Value within [] is added to the dictionary\n",
    "b. Value None is returned\n",
    "c. New dictionary is created\n",
    "d. None of above\n",
    "\n",
    "# Value none is returned\n",
    "\n",
    "5. What does return the pop method of a dictionary?\n",
    "a. list\n",
    "b. tuple containing the pair of last item of the dictionary\n",
    "c. dictionary\n",
    "d. value of the key, if it exists in the dictionary\n",
    "\n",
    "# The pop() method returns: example given below answer would be (d)\n",
    "\n",
    "If key is found - removed/popped element from the dictionary\n",
    "If key is not found - value specified as the second argument (default)\n",
    "If key is not found and default argument is not specified - KeyError exception is raised\n",
    "\n",
    "6. What does return popitem method return?\n",
    "a. dictionary\n",
    "b. tupple containing the pair of last item of the dictionary\n",
    "c. list\n",
    "d. value of key, if it exists in the dictionary\n",
    "\n",
    "# It will return Dictionary after removal of last item from the dictionary example given at bottom\n",
    "\n",
    "7. Which of the following 2 methods can be used to iterate through the items of a dictionary?\n",
    "a. items()\n",
    "b. values()\n",
    "c. indexes()\n",
    "d. keys()\n",
    "\n",
    "# b(values) and d(keys)\n",
    "\n",
    "8. Which one of the following is used to enclose a dictionary?\n",
    "a. () parenthesis\n",
    "b. {} curly brackets\n",
    "c. [] square brackets\n",
    "d. “” quotation marks\n",
    "\n",
    "# b) Curly Brackets\n",
    "\n",
    "9. Write Python Program add key-value pair in dictionary and check if a Given Key or Value or Both\n",
    "Exists in a Dictionary or Not.\n",
    "\n",
    "# example\n",
    "dict1 = {\"a\":10, \"b\":\"value\", \"c\":5}\n",
    "\"value\" in dict1.values()\n",
    "\"a\" in dict1.keys()\n",
    "\n",
    "output will be True\n",
    "\n",
    "10. Write a Python Program to Count the Frequency of Words Appearing in a String Using a\n",
    "Dictionary and print only the words having Even (divisible by 2) frequency.\n",
    "\n",
    "11. X = [\"Feb\", Apr, Mar, May, Jun, Jul, Aug, Jan]. What will be output of following?\n",
    "X[0:3]\n",
    "X[2:8]\n",
    "X[4:9]\n",
    "X[1:7:2]\n",
    "X[-1:-7]\n",
    "X[-7:7]\n",
    "X[-1:-8:-2]\n",
    "X[:4]\n",
    "\n",
    "# it will return syntex error because quotation not given to list values but if given proper quotations answer given in code section\n",
    "\n",
    "\n",
    "12. Remove the correct number from the list X\n",
    "X = [ 9,2,8,4,5]\n",
    "X__?__\n",
    "print (X)\n",
    "Output: [2,8,4,5]\n",
    "1) .delete(9)\n",
    "2) .rm(9)\n",
    "3) .remove(9)\n",
    "\n",
    "# x.remove(9) optoion c\n",
    "x = [9,2,8,4,5]\n",
    "x.remove(9)\n",
    "print(x)\n",
    "\n",
    "13. p = 3\n",
    " q = 'hello! '\n",
    " print( q __?__ p)\n",
    " hello! hello! hello!\n",
    " 1) *\n",
    " 2) **\n",
    " 3) +\n",
    " \n",
    " # option 1 print (q*p)\n",
    " \n",
    "14. y = \"this is a random sentence\"\n",
    "print (y__?__)\n",
    "Output: THIS IS A RANDOM SENTENCE\n",
    "1) .upper()\n",
    "2) .upcase()\n",
    "3) .capitalize()\n",
    "\n",
    "# option 1 y.upper()\n",
    "\n",
    "15. p = True\n",
    " q = ‘True’\n",
    " r = 2\n",
    " r = 2.0\n",
    "print(type(p)) (bolean)\n",
    "print(type(q)) (bolean)\n",
    "print(type(r)) (int)\n",
    "print(type(s)) (float)\n",
    "# output will come following if we double quote q = \"True\" otherwise it returns syntex error\n",
    "output\n",
    "<class 'bool'>\n",
    "<class 'str'>\n",
    "<class 'int'>\n",
    "<class 'float'>\n",
    "\n",
    "\n",
    "16. What are the optional arguments to the function?\n",
    "function_1(R1, q, p=None, R2= None)\n",
    "1) q and R2\n",
    "2) p and R2\n",
    "3) p and R1\n",
    "4) R1 and q\n",
    "\n",
    "\n",
    "# Ans: 2) p and R2\n",
    "# Explanation: as p and R2 are being reassigned to 'None'. so it does not matter whether you pass it or not while calling.\n",
    "\n",
    "17. Which command invokes method X() of the object p?\n",
    "1) X(p)\n",
    "2) p$x()\n",
    "3) X().p\n",
    "4) p.x()\n",
    "\n",
    "# Ans: 4)  p.x()\n",
    "\n",
    "18. X=4 , Y= 2\n",
    "\n",
    "print(X % Y)   0\n",
    "print(X / Y)   2.0\n",
    "print(X // Y)  2\n",
    "print(Y % X)   2\n",
    "\n",
    "\n"
   ]
  },
  {
   "cell_type": "markdown",
   "metadata": {},
   "source": [
    "# 22. What is the output of the following:\n",
    "D = dict()\n",
    "for i in range (3):\n",
    "for j in range(2):\n",
    "D[i] = j\n",
    "a. {0: 1, 1: 1, 2: 1}\n",
    "b. {1: 0, 1: 1, 1: 2}\n",
    "c. {0: 1, 1: 2, 2: 3}\n",
    "d. {1: 2, 1: 1, 1: 0}\n",
    "\n",
    "# Answar Option (a)\n",
    "D = dict()\n",
    "for i in range (3):\n",
    "    for j in range(2):\n",
    "        D[i] = j\n",
    "print(D)\n",
    "Output\n",
    "# {0: 1, 1: 1, 2: 1}\n",
    "\n",
    "24. What will be output?\n",
    "  def avg ( x , y , z = 50 ):\n",
    "    adding = x + y + z\n",
    "    avg_value = adding / 3\n",
    "    return avg_value\n",
    "y = avg ( x = 5 , y = 9 , z = 20 )\n",
    "print(y)\n",
    "\n",
    "# output\n",
    "11.333333333333334\n",
    "    \n"
   ]
  },
  {
   "cell_type": "markdown",
   "metadata": {},
   "source": [
    "# 5. What does return the pop method of a dictionary?\n",
    "- a. list\n",
    "- b. tuple containing the pair of last item of the dictionary\n",
    "- c. dictionary\n",
    "- d. value of the key, if it exists in the dictionary\n",
    "\n",
    "The pop() method returns:\n",
    "\n",
    "If key is found - removed/popped element from the dictionary\n",
    "If key is not found - value specified as the second argument (default)\n",
    "If key is not found and default argument is not specified - KeyError exception is raised"
   ]
  },
  {
   "cell_type": "code",
   "execution_count": 64,
   "metadata": {},
   "outputs": [
    {
     "name": "stdout",
     "output_type": "stream",
     "text": [
      "{'orange': 10, 'banana': 3}\n",
      "value of popped item 15\n"
     ]
    }
   ],
   "source": [
    "#example for question 5\n",
    "dict3 = {\"orange\":10, \"mango\":15, \"banana\":3}\n",
    "popped = dict3.pop(\"mango\")\n",
    "print (dict3)\n",
    "print (\"value of popped item\", popped)"
   ]
  },
  {
   "cell_type": "markdown",
   "metadata": {},
   "source": [
    "# 6. What does return popitem method return?"
   ]
  },
  {
   "cell_type": "code",
   "execution_count": 66,
   "metadata": {},
   "outputs": [
    {
     "name": "stdout",
     "output_type": "stream",
     "text": [
      "{'brand': 'Ford', 'model': 'Mustang'}\n"
     ]
    }
   ],
   "source": [
    "#Remove the last item from the dictionary\n",
    "car = {\n",
    "  \"brand\": \"Ford\",\n",
    "  \"model\": \"Mustang\",\n",
    "  \"year\": 1964\n",
    "}\n",
    "\n",
    "car.popitem()\n",
    "\n",
    "print(car)"
   ]
  },
  {
   "cell_type": "markdown",
   "metadata": {},
   "source": [
    "# 9. Write Python Program add key-value pair in dictionary and check if a Given Key or Value or Both\n",
    "Exists in a Dictionary or Not."
   ]
  },
  {
   "cell_type": "code",
   "execution_count": 59,
   "metadata": {},
   "outputs": [
    {
     "data": {
      "text/plain": [
       "True"
      ]
     },
     "execution_count": 59,
     "metadata": {},
     "output_type": "execute_result"
    }
   ],
   "source": [
    "dict1 = {\"a\":10, \"b\":\"value\", \"c\":5}\n",
    "dict1\n",
    "\"value\" in dict1.values()\n",
    "\"a\" in dict1.keys()"
   ]
  },
  {
   "cell_type": "markdown",
   "metadata": {},
   "source": [
    "# 10. Write a Python Program to Count the Frequency of Words Appearing in a String Using a Dictionary and print only the words having Even (divisible by 2) frequency."
   ]
  },
  {
   "cell_type": "code",
   "execution_count": 67,
   "metadata": {},
   "outputs": [
    {
     "data": {
      "text/plain": [
       "{'a': 1, 'b': 2, 'c': 3, 'd': 4, 'e': 5}"
      ]
     },
     "execution_count": 67,
     "metadata": {},
     "output_type": "execute_result"
    }
   ],
   "source": [
    "dict4 = {\"a\":1,\"b\":2,\"c\":3,\"d\":4,\"e\":5}\n",
    "dict4"
   ]
  },
  {
   "cell_type": "markdown",
   "metadata": {},
   "source": [
    "# 11. X = [\"Feb\", Apr, Mar, May, Jun, Jul, Aug, Jan]. What will be output of following?\n",
    "X[0:3]\n",
    "X[2:8]\n",
    "X[4:9]\n",
    "X[1:7:2]\n",
    "X[-1:-7]\n",
    "X[-7:7]\n",
    "X[-1:-8:-2]\n",
    "X[:4]"
   ]
  },
  {
   "cell_type": "markdown",
   "metadata": {},
   "source": [
    "      0    1    2     3    4     5    6    7\n",
    "X = ['Feb', 'Apr', 'Mar', 'May', 'Jun', 'Jul', 'Aug', 'Jan']\n",
    "     -8   -7   -6    -5   -4    -3  -2    -1\n",
    "X[0:3] returns Feb, Apr, Mar\n",
    "X[2:8] returns Mar, May, Jun, Jul, Aug, Jan\n",
    "X[4:9] returns Jun, Jul, Aug, jan\n",
    "X[1:7:2] returns Apr, May, Jul, Jan\n",
    "X[-1:-7] returns []\n",
    "X[-7:7] returns Apr, Mar, May, Jun, Jul, Aug\n",
    "X[-1:-8:-2] returns Jan, Jul, May, Apr\n",
    "X[:4] returns Feb, Apr, Mar, May"
   ]
  },
  {
   "cell_type": "markdown",
   "metadata": {},
   "source": [
    "# 13. \n",
    " - p = 3\n",
    " - q = 'hello! '\n",
    " - print( q __?__ p)\n",
    " - hello! hello! hello!"
   ]
  },
  {
   "cell_type": "code",
   "execution_count": 71,
   "metadata": {},
   "outputs": [
    {
     "name": "stdout",
     "output_type": "stream",
     "text": [
      "hello! hello! hello! \n"
     ]
    }
   ],
   "source": [
    "p = 3\n",
    "q = 'hello! '\n",
    "print( q*p)"
   ]
  },
  {
   "cell_type": "markdown",
   "metadata": {},
   "source": [
    "# 15"
   ]
  },
  {
   "cell_type": "code",
   "execution_count": 78,
   "metadata": {},
   "outputs": [
    {
     "name": "stdout",
     "output_type": "stream",
     "text": [
      "<class 'bool'>\n",
      "<class 'str'>\n",
      "<class 'int'>\n",
      "<class 'float'>\n"
     ]
    }
   ],
   "source": [
    "p = True\n",
    "q = \"True\"\n",
    "r = 2\n",
    "s = 2.0\n",
    "print(type(p))\n",
    "print(type(q))\n",
    "print(type(r))\n",
    "print(type(s))"
   ]
  },
  {
   "cell_type": "code",
   "execution_count": 80,
   "metadata": {},
   "outputs": [
    {
     "ename": "NameError",
     "evalue": "name 'function_1' is not defined",
     "output_type": "error",
     "traceback": [
      "\u001b[1;31m---------------------------------------------------------------------------\u001b[0m",
      "\u001b[1;31mNameError\u001b[0m                                 Traceback (most recent call last)",
      "\u001b[1;32m<ipython-input-80-96f1828f6f92>\u001b[0m in \u001b[0;36m<module>\u001b[1;34m\u001b[0m\n\u001b[1;32m----> 1\u001b[1;33m \u001b[0mfunction_1\u001b[0m\u001b[1;33m(\u001b[0m\u001b[0mR1\u001b[0m\u001b[1;33m,\u001b[0m \u001b[0mq\u001b[0m\u001b[1;33m,\u001b[0m \u001b[0mp\u001b[0m\u001b[1;33m=\u001b[0m\u001b[1;32mNone\u001b[0m\u001b[1;33m,\u001b[0m \u001b[0mR2\u001b[0m\u001b[1;33m=\u001b[0m \u001b[1;32mNone\u001b[0m\u001b[1;33m)\u001b[0m\u001b[1;33m\u001b[0m\u001b[1;33m\u001b[0m\u001b[0m\n\u001b[0m",
      "\u001b[1;31mNameError\u001b[0m: name 'function_1' is not defined"
     ]
    }
   ],
   "source": [
    "function_1(R1, q, p=None, R2= None)"
   ]
  },
  {
   "cell_type": "markdown",
   "metadata": {},
   "source": [
    "# 18. X=4 , Y= 2"
   ]
  },
  {
   "cell_type": "code",
   "execution_count": 86,
   "metadata": {},
   "outputs": [
    {
     "name": "stdout",
     "output_type": "stream",
     "text": [
      "0\n",
      "2.0\n",
      "2\n",
      "2\n"
     ]
    }
   ],
   "source": [
    "x=4\n",
    "y= 2\n",
    "print (x % y)\n",
    "print (x / y)\n",
    "print (x // y)\n",
    "print (y % x)\n"
   ]
  },
  {
   "cell_type": "markdown",
   "metadata": {},
   "source": [
    "# 19"
   ]
  },
  {
   "cell_type": "markdown",
   "metadata": {},
   "source": [
    "x = [[4, 1, 1], [5, 9, 0]]\n",
    "for i in __?__:\n",
    "for j in __?__:\n",
    "?\n",
    "Output: 4\n",
    "1\n",
    "1\n",
    "5\n",
    "9\n",
    "0\n",
    "x = [[4, 1, 1], [5, 9, 0]]\n",
    "for i in __?__:\n",
    "for j in __?__:\n",
    "?\n",
    "Output: 4 5\n",
    "1 9\n",
    "1 0\n",
    "x = [[4, 1, 1], [5, 9, 0]]\n",
    "for i in __?__:\n",
    "for j in __?__:\n",
    "?\n",
    "Output: 4 1 1 5 9 0\n",
    "x = [[4, 1, 1], [5, 9, 0]]\n",
    "for i in __?__:\n",
    "for j in __?__:\n",
    "?\n",
    "Output: 4 1 1\n",
    "5 9 0"
   ]
  },
  {
   "cell_type": "code",
   "execution_count": 152,
   "metadata": {},
   "outputs": [
    {
     "name": "stdout",
     "output_type": "stream",
     "text": [
      "4\n",
      "1\n",
      "1\n",
      "5\n",
      "9\n",
      "0\n"
     ]
    }
   ],
   "source": [
    "x = [[4, 1, 1], [5, 9, 0]]\n",
    "for i in range(2):\n",
    "        for j in range(3):\n",
    "            print(x[i][j])\n",
    "    "
   ]
  },
  {
   "cell_type": "code",
   "execution_count": 153,
   "metadata": {},
   "outputs": [
    {
     "name": "stdout",
     "output_type": "stream",
     "text": [
      "[4, 1, 1, 4, 1, 1]\n",
      "[4, 1, 1, 5, 9, 0]\n",
      "[5, 9, 0, 4, 1, 1]\n",
      "[5, 9, 0, 5, 9, 0]\n"
     ]
    }
   ],
   "source": [
    "x = [[4, 1, 1], [5, 9, 0]]\n",
    "for i in range(2):\n",
    "    for j in range(2):\n",
    "        print(x[i]+x[j])"
   ]
  },
  {
   "cell_type": "code",
   "execution_count": null,
   "metadata": {},
   "outputs": [],
   "source": []
  },
  {
   "cell_type": "code",
   "execution_count": null,
   "metadata": {},
   "outputs": [],
   "source": []
  },
  {
   "cell_type": "markdown",
   "metadata": {},
   "source": [
    "# 22"
   ]
  },
  {
   "cell_type": "code",
   "execution_count": 136,
   "metadata": {},
   "outputs": [
    {
     "name": "stdout",
     "output_type": "stream",
     "text": [
      "{0: 1, 1: 1, 2: 1}\n"
     ]
    }
   ],
   "source": [
    "D = dict()\n",
    "for i in range (3):\n",
    "    for j in range(2):\n",
    "        D[i] = j\n",
    "print(D)"
   ]
  },
  {
   "cell_type": "markdown",
   "metadata": {},
   "source": [
    "# 24"
   ]
  },
  {
   "cell_type": "code",
   "execution_count": 144,
   "metadata": {},
   "outputs": [
    {
     "name": "stdout",
     "output_type": "stream",
     "text": [
      "11.333333333333334\n"
     ]
    }
   ],
   "source": [
    "def avg(x,y,z = 50):\n",
    "    adding = x + y + z\n",
    "    avg_value = adding / 3\n",
    "    return avg_value\n",
    "y = avg ( x = 5 , y = 9 , z = 20 )\n",
    "print(y)"
   ]
  },
  {
   "cell_type": "markdown",
   "metadata": {},
   "source": [
    "# 25"
   ]
  },
  {
   "cell_type": "code",
   "execution_count": 154,
   "metadata": {},
   "outputs": [
    {
     "ename": "SyntaxError",
     "evalue": "invalid character in identifier (<ipython-input-154-1aaf90037a45>, line 4)",
     "output_type": "error",
     "traceback": [
      "\u001b[1;36m  File \u001b[1;32m\"<ipython-input-154-1aaf90037a45>\"\u001b[1;36m, line \u001b[1;32m4\u001b[0m\n\u001b[1;33m    avg ( 5 , 9 , 20, 34, 87, 112 , ‘Ali’ )\u001b[0m\n\u001b[1;37m                                        ^\u001b[0m\n\u001b[1;31mSyntaxError\u001b[0m\u001b[1;31m:\u001b[0m invalid character in identifier\n"
     ]
    }
   ],
   "source": [
    "def avg ( *opt_values , name ):\n",
    "    avg_value = sum (opt_values) / len(opt_values)\n",
    "print('name is: ' + 'name' + 'Marks: ' + str(avg_value))\n",
    "avg ( 5 , 9 , 20, 34, 87, 112 , ‘Ali’ )"
   ]
  },
  {
   "cell_type": "markdown",
   "metadata": {},
   "source": [
    "# 26 Final output is not required. Just take copy pencil, think and write the output of each line, write down the link between parameters and arguments. Remove one or two ** from other_info and observe the ouput.\n"
   ]
  },
  {
   "cell_type": "code",
   "execution_count": 176,
   "metadata": {},
   "outputs": [
    {
     "name": "stdout",
     "output_type": "stream",
     "text": [
      "The winner was Manchester\n",
      "The score was 1-0\n"
     ]
    }
   ],
   "source": [
    "def display_result(winner, score, **other_info):\n",
    "    print(\"The winner was \" + winner) #concatinating The winner was with winner value in last line we defined winner and score values\n",
    "    print(\"The score was \" + score)\n",
    "display_result(winner=\"Manchester\", score=\"1-0\", overtime =\"yes\", injuries=\"none\")\n"
   ]
  },
  {
   "cell_type": "code",
   "execution_count": 178,
   "metadata": {},
   "outputs": [
    {
     "ename": "TypeError",
     "evalue": "display_result() got an unexpected keyword argument 'overtime'",
     "output_type": "error",
     "traceback": [
      "\u001b[1;31m---------------------------------------------------------------------------\u001b[0m",
      "\u001b[1;31mTypeError\u001b[0m                                 Traceback (most recent call last)",
      "\u001b[1;32m<ipython-input-178-6596e6e10e45>\u001b[0m in \u001b[0;36m<module>\u001b[1;34m\u001b[0m\n\u001b[0;32m      2\u001b[0m     \u001b[0mprint\u001b[0m\u001b[1;33m(\u001b[0m\u001b[1;34m\"The winner was \"\u001b[0m \u001b[1;33m+\u001b[0m \u001b[0mwinner\u001b[0m\u001b[1;33m)\u001b[0m \u001b[1;31m#concatinating The winner was with winner value in last line we defined winner and score values\u001b[0m\u001b[1;33m\u001b[0m\u001b[1;33m\u001b[0m\u001b[0m\n\u001b[0;32m      3\u001b[0m     \u001b[0mprint\u001b[0m\u001b[1;33m(\u001b[0m\u001b[1;34m\"The score was \"\u001b[0m \u001b[1;33m+\u001b[0m \u001b[0mscore\u001b[0m\u001b[1;33m)\u001b[0m\u001b[1;33m\u001b[0m\u001b[1;33m\u001b[0m\u001b[0m\n\u001b[1;32m----> 4\u001b[1;33m \u001b[0mdisplay_result\u001b[0m\u001b[1;33m(\u001b[0m\u001b[0mwinner\u001b[0m\u001b[1;33m=\u001b[0m\u001b[1;34m\"Manchester\"\u001b[0m\u001b[1;33m,\u001b[0m \u001b[0mscore\u001b[0m\u001b[1;33m=\u001b[0m\u001b[1;34m\"1-0\"\u001b[0m\u001b[1;33m,\u001b[0m \u001b[0movertime\u001b[0m \u001b[1;33m=\u001b[0m\u001b[1;34m\"yes\"\u001b[0m\u001b[1;33m,\u001b[0m \u001b[0minjuries\u001b[0m\u001b[1;33m=\u001b[0m\u001b[1;34m\"none\"\u001b[0m\u001b[1;33m)\u001b[0m\u001b[1;33m\u001b[0m\u001b[1;33m\u001b[0m\u001b[0m\n\u001b[0m",
      "\u001b[1;31mTypeError\u001b[0m: display_result() got an unexpected keyword argument 'overtime'"
     ]
    }
   ],
   "source": [
    "def display_result(winner, score, other_info):\n",
    "    print(\"The winner was \" + winner) #concatinating The winner was with winner value in last line we defined winner and score values\n",
    "    print(\"The score was \" + score)\n",
    "display_result(winner=\"Manchester\", score=\"1-0\", overtime =\"yes\", injuries=\"none\")"
   ]
  },
  {
   "cell_type": "code",
   "execution_count": 180,
   "metadata": {},
   "outputs": [
    {
     "name": "stdout",
     "output_type": "stream",
     "text": [
      "The winner was Manchester\n",
      "The score was 1-0\n",
      "over time given :yes\n",
      "Injuries :none\n"
     ]
    }
   ],
   "source": [
    "def display_result(winner, score, overtime, injuries):\n",
    "    print(\"The winner was \" + winner) #concatinating The winner was with winner value in last line we defined winner and score values\n",
    "    print(\"The score was \" + score)\n",
    "    print(\"over time given :\" + overtime)\n",
    "    print(\"Injuries :\" + injuries)\n",
    "display_result(winner=\"Manchester\", score=\"1-0\", overtime =\"yes\", injuries=\"none\")"
   ]
  },
  {
   "cell_type": "markdown",
   "metadata": {},
   "source": [
    "# 27 The position of parameters and arguments is re-arranged. Just think and find the logic behind output or error.\n"
   ]
  },
  {
   "cell_type": "code",
   "execution_count": 201,
   "metadata": {},
   "outputs": [
    {
     "name": "stdout",
     "output_type": "stream",
     "text": [
      "The winner was Manchester\n",
      "The score was 1-0\n",
      "{'overtime': 'yes', 'injuries': 'none'}\n"
     ]
    }
   ],
   "source": [
    "def display_result(winner, score, **other_info, ):\n",
    "    print(\"The winner was \" + winner)\n",
    "    print(\"The score was \" + score)\n",
    "    print(other_info)\n",
    "    \n",
    "    if 'b' in other_info.keys():\n",
    "        print(\"Pakistan\")\n",
    "display_result(winner=\"Manchester\", overtime =\"yes\", injuries=\"none\" , score=\"1-0\" )"
   ]
  },
  {
   "cell_type": "markdown",
   "metadata": {},
   "source": [
    "# 29 What will be the output of the following Python expression if X=123?\n",
    "a) 123000\n",
    "b) 000123\n",
    "c) 000000123\n",
    "d) 123000000\n"
   ]
  },
  {
   "cell_type": "code",
   "execution_count": 206,
   "metadata": {},
   "outputs": [
    {
     "name": "stdout",
     "output_type": "stream",
     "text": [
      "000004\n"
     ]
    }
   ],
   "source": [
    "x = 123\n",
    "\n",
    "print(\"%06d\"%X)"
   ]
  },
  {
   "cell_type": "code",
   "execution_count": 207,
   "metadata": {},
   "outputs": [
    {
     "name": "stdout",
     "output_type": "stream",
     "text": [
      "000123\n"
     ]
    }
   ],
   "source": [
    "x=123\n",
    "print('%06d'%x)"
   ]
  },
  {
   "cell_type": "markdown",
   "metadata": {},
   "source": [
    "# 29 What will be the output of the following Python expression if x=22.19?\n",
    "print(\"%5.2f\"%x)\n",
    "a) 22.1900\n",
    "b) 22.00000\n",
    "c) 22.19\n",
    "d) 22.20"
   ]
  },
  {
   "cell_type": "code",
   "execution_count": 208,
   "metadata": {},
   "outputs": [
    {
     "name": "stdout",
     "output_type": "stream",
     "text": [
      "22.19\n"
     ]
    }
   ],
   "source": [
    "x=22.19\n",
    "print(\"%5.2f\"%x)"
   ]
  },
  {
   "cell_type": "markdown",
   "metadata": {},
   "source": [
    "# 30What will be the output of the following Python code?\n",
    "'{0:f}, {1:2f}, {2:05.2f}'.format(1.23456, 1.23456, 1.23456)\n",
    "a) Error b) ‘1.234560, 1.22345, 1.23’ c) No output d) ‘1.234560, 1.234560, 01.23’\n",
    "\n",
    "Answer is b"
   ]
  },
  {
   "cell_type": "code",
   "execution_count": 209,
   "metadata": {},
   "outputs": [
    {
     "data": {
      "text/plain": [
       "'1.234560, 1.234560, 01.23'"
      ]
     },
     "execution_count": 209,
     "metadata": {},
     "output_type": "execute_result"
    }
   ],
   "source": [
    "'{0:f}, {1:2f}, {2:05.2f}'.format(1.23456, 1.23456, 1.23456)"
   ]
  },
  {
   "cell_type": "markdown",
   "metadata": {},
   "source": [
    "# 31. Write down the output of each line after each iterations. Do multiple experiments to change values\n",
    "i = 1\n",
    "while False:\n",
    "if i%2 == 0:\n",
    "break\n",
    "print(i)\n",
    "i += 2"
   ]
  },
  {
   "cell_type": "code",
   "execution_count": 221,
   "metadata": {},
   "outputs": [],
   "source": [
    "i = 1\n",
    "while False:\n",
    "    if i%2 == 0:\n",
    "        break\n",
    "    print(i)\n",
    "    i += 2"
   ]
  },
  {
   "cell_type": "markdown",
   "metadata": {},
   "source": [
    "# 32. Write down the output of each line after each iterations. Do multiple experiments to change values\n",
    "x = \"abcdef\"\n",
    "i = \"a\"\n",
    "while i in x:\n",
    "x = x[:-1]\n",
    "print(i, end = \" \")"
   ]
  },
  {
   "cell_type": "code",
   "execution_count": 234,
   "metadata": {},
   "outputs": [
    {
     "name": "stdout",
     "output_type": "stream",
     "text": [
      "a a a a a a "
     ]
    }
   ],
   "source": [
    "x = \"abcdef\"\n",
    "i = \"a\"\n",
    "while i in x:\n",
    "    x = x[:-1]\n",
    "    print(i, end = \" \")\n",
    "    \n",
    "# it will run while loop and consider first index 0 to 5 and consider i value a 6 time if we change value to b it will show 5 b\n",
    "# if we change i value to c it will display 4 c and so on"
   ]
  },
  {
   "cell_type": "code",
   "execution_count": 235,
   "metadata": {},
   "outputs": [
    {
     "name": "stdout",
     "output_type": "stream",
     "text": [
      "c c c c "
     ]
    }
   ],
   "source": [
    "x = \"abcdef\"\n",
    "i = \"c\"\n",
    "while i in x:\n",
    "    x = x[:-1]\n",
    "    print(i, end = \" \")"
   ]
  },
  {
   "cell_type": "markdown",
   "metadata": {},
   "source": [
    "# 33. Write down the output of each line after each iterations. Do multiple experiments to change values\n",
    "for i in ''.join(reversed(list('abcd'))):\n",
    "print (i)"
   ]
  },
  {
   "cell_type": "code",
   "execution_count": 237,
   "metadata": {},
   "outputs": [
    {
     "name": "stdout",
     "output_type": "stream",
     "text": [
      "d\n",
      "c\n",
      "b\n",
      "a\n"
     ]
    }
   ],
   "source": [
    "for i in ''.join(reversed(list('abcd'))):\n",
    "    print (i)"
   ]
  },
  {
   "cell_type": "code",
   "execution_count": 242,
   "metadata": {},
   "outputs": [
    {
     "name": "stdout",
     "output_type": "stream",
     "text": [
      "j\n",
      " \n",
      " \n",
      " \n",
      "i\n",
      " \n",
      " \n",
      " \n",
      "h\n",
      " \n",
      " \n",
      " \n",
      "g\n",
      " \n",
      " \n",
      " \n",
      "f\n",
      " \n",
      " \n",
      " \n",
      "e\n",
      " \n",
      " \n",
      " \n",
      "d\n",
      " \n",
      " \n",
      " \n",
      "c\n",
      " \n",
      " \n",
      " \n",
      "b\n",
      " \n",
      " \n",
      " \n",
      "a\n"
     ]
    }
   ],
   "source": [
    "for i in '   '.join(reversed(list('abcdefghij'))):\n",
    "    print (i)"
   ]
  },
  {
   "cell_type": "code",
   "execution_count": 243,
   "metadata": {},
   "outputs": [
    {
     "name": "stdout",
     "output_type": "stream",
     "text": [
      "j\n",
      "/\n",
      "i\n",
      "/\n",
      "h\n",
      "/\n",
      "g\n",
      "/\n",
      "f\n",
      "/\n",
      "e\n",
      "/\n",
      "d\n",
      "/\n",
      "c\n",
      "/\n",
      "b\n",
      "/\n",
      "a\n"
     ]
    }
   ],
   "source": [
    "for i in '/'.join(reversed(list('abcdefghij'))):\n",
    "    print (i)"
   ]
  },
  {
   "cell_type": "markdown",
   "metadata": {},
   "source": [
    "# 34. Flow of the program. Write the output of each line after every iteration of ‘i’\n",
    "for i in range(10):\n",
    "if i == 5:\n",
    "break\n",
    "else:\n",
    "print(i)\n",
    "else:\n",
    "print(\"Here\")"
   ]
  },
  {
   "cell_type": "code",
   "execution_count": 256,
   "metadata": {},
   "outputs": [
    {
     "name": "stdout",
     "output_type": "stream",
     "text": [
      "0\n",
      "1\n",
      "2\n",
      "3\n",
      "4\n"
     ]
    }
   ],
   "source": [
    "for i in range(10):\n",
    "    if i == 5:\n",
    "        break\n",
    "    else:\n",
    "            print(i)\n",
    "else:\n",
    "        print(\"Here\")"
   ]
  },
  {
   "cell_type": "code",
   "execution_count": 257,
   "metadata": {},
   "outputs": [
    {
     "name": "stdout",
     "output_type": "stream",
     "text": [
      "0\n",
      "1\n",
      "2\n",
      "3\n",
      "4\n",
      "Here\n"
     ]
    }
   ],
   "source": [
    "for i in range(5):\n",
    "    if i == 5:\n",
    "        break\n",
    "    else:\n",
    "            print(i)\n",
    "else:\n",
    "        print(\"Here\")"
   ]
  },
  {
   "cell_type": "markdown",
   "metadata": {},
   "source": [
    "# 35. What is the output? And understand the functionality of lambda function\n",
    "y = 6\n",
    "z = lambda x: x * y\n",
    "print z(8)"
   ]
  },
  {
   "cell_type": "code",
   "execution_count": 262,
   "metadata": {},
   "outputs": [
    {
     "ename": "SyntaxError",
     "evalue": "invalid syntax (<ipython-input-262-ad0edbf7f167>, line 3)",
     "output_type": "error",
     "traceback": [
      "\u001b[1;36m  File \u001b[1;32m\"<ipython-input-262-ad0edbf7f167>\"\u001b[1;36m, line \u001b[1;32m3\u001b[0m\n\u001b[1;33m    print z(8)\u001b[0m\n\u001b[1;37m          ^\u001b[0m\n\u001b[1;31mSyntaxError\u001b[0m\u001b[1;31m:\u001b[0m invalid syntax\n"
     ]
    }
   ],
   "source": [
    "y = 6\n",
    "z = lambda x:x*y\n",
    "print z(8)"
   ]
  },
  {
   "cell_type": "code",
   "execution_count": 259,
   "metadata": {},
   "outputs": [
    {
     "data": {
      "text/plain": [
       "11"
      ]
     },
     "execution_count": 259,
     "metadata": {},
     "output_type": "execute_result"
    }
   ],
   "source": [
    "def abc(x,y): return x+y\n",
    "\n",
    "abc(5,6)"
   ]
  },
  {
   "cell_type": "code",
   "execution_count": 260,
   "metadata": {},
   "outputs": [
    {
     "data": {
      "text/plain": [
       "20"
      ]
     },
     "execution_count": 260,
     "metadata": {},
     "output_type": "execute_result"
    }
   ],
   "source": [
    "abc = lambda x,y,z: x+y+z\n",
    "\n",
    "abc(5,6,9)"
   ]
  }
 ],
 "metadata": {
  "kernelspec": {
   "display_name": "Python 3",
   "language": "python",
   "name": "python3"
  },
  "language_info": {
   "codemirror_mode": {
    "name": "ipython",
    "version": 3
   },
   "file_extension": ".py",
   "mimetype": "text/x-python",
   "name": "python",
   "nbconvert_exporter": "python",
   "pygments_lexer": "ipython3",
   "version": "3.7.4"
  }
 },
 "nbformat": 4,
 "nbformat_minor": 2
}
